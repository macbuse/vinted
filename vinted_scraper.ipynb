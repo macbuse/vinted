{
 "cells": [
  {
   "cell_type": "code",
   "execution_count": 38,
   "metadata": {},
   "outputs": [],
   "source": [
    "import re\n",
    "import json\n",
    "import requests\n",
    "#hash this as we'll be using it a lot\n",
    "def get_page(url,params={}):\n",
    "    return session_requests.get(\n",
    "        url,\n",
    "        params=params,\n",
    "        headers = dict(referer=url))\n",
    "\n",
    "session_requests = requests.session()\n",
    "login_url = 'https://www.vinted.fr/member/general/login?ref_url='\n",
    "tt = session_requests.get(login_url).content.decode('utf-8')\n",
    "pp = re.compile('name=\"csrf-token\" content=\"(.*?)\"')\n",
    "mm = pp.search(tt)\n",
    "\n",
    "from vinted_creds import creds\n",
    "payload = creds\n",
    "payload[\"authenticity_token\"] =  mm.group(1)\n",
    "\n",
    "result = session_requests.post( 'https://www.vinted.fr/member/general/login.json',\n",
    "                               json=json.dumps(payload),\n",
    "                               headers = dict(referer=login_url)\n",
    "                              )"
   ]
  },
  {
   "cell_type": "code",
   "execution_count": 39,
   "metadata": {},
   "outputs": [
    {
     "data": {
      "text/plain": [
       "<Response [422]>"
      ]
     },
     "execution_count": 39,
     "metadata": {},
     "output_type": "execute_result"
    }
   ],
   "source": [
    "result"
   ]
  },
  {
   "cell_type": "raw",
   "metadata": {},
   "source": [
    "results gives a code  422 but it gives you access to the API all the same"
   ]
  },
  {
   "cell_type": "code",
   "execution_count": 5,
   "metadata": {},
   "outputs": [
    {
     "name": "stdout",
     "output_type": "stream",
     "text": [
      "1\n",
      "2\n",
      "3\n",
      "4\n",
      "5\n",
      "6\n"
     ]
    }
   ],
   "source": [
    "url = 'https://www.vinted.fr/api/v2/users/20263980/items'\n",
    "\n",
    "stuff = []\n",
    "for k in range(1,7):\n",
    "    print(k)\n",
    "    r = get_page(url, \n",
    "                params={'page': k, 'per_page': 48})\n",
    "    stuff.append( r.json())"
   ]
  },
  {
   "cell_type": "markdown",
   "metadata": {},
   "source": [
    "you should really get the max_page from in the first json batch\n",
    "['pagination']"
   ]
  },
  {
   "cell_type": "code",
   "execution_count": 6,
   "metadata": {},
   "outputs": [],
   "source": [
    "stuff = [x['items'] for x in stuff]\n",
    "import itertools\n",
    "df = list(itertools.chain.from_iterable(stuff))"
   ]
  },
  {
   "cell_type": "code",
   "execution_count": 8,
   "metadata": {},
   "outputs": [
    {
     "data": {
      "text/plain": [
       "961.5999999999999"
      ]
     },
     "execution_count": 8,
     "metadata": {},
     "output_type": "execute_result"
    }
   ],
   "source": [
    "its = [ (x['view_count'], x['title'] + x['description']) for x in df ]\n",
    "its = [ (x['view_count'], x['title'] ) for x in df ]\n",
    "sum( [ float(x['price_numeric']) for x in df ] )"
   ]
  },
  {
   "cell_type": "code",
   "execution_count": 9,
   "metadata": {},
   "outputs": [],
   "source": [
    "from datetime import datetime\n",
    "def str2date(ss):\n",
    "    date = ss.split('+')[0]\n",
    "    return  datetime.strptime(date, '%Y-%m-%dT%H:%M:%S')\n",
    "\n",
    "def date2offset(ss):\n",
    "    start = str2date('2018-12-02T15:53:11+01:00')\n",
    "    \n",
    "    return  (datetime.now() - str2date(ss) ).days\n",
    "\n",
    "xx = [ (x['view_count'], \n",
    "        date2offset(x['created_at_ts']),\n",
    "        x['title'] \n",
    "        ) for x in df ]"
   ]
  },
  {
   "cell_type": "code",
   "execution_count": 11,
   "metadata": {},
   "outputs": [
    {
     "data": {
      "text/plain": [
       "[(92, 1, 'pull ralph lauren femme bleu marine XS '),\n",
       " (58, 26, 'veste petit bateau marine fille '),\n",
       " (56, 44, 'manteau bleu marine petit bateau fille laine (78%)'),\n",
       " (48, 51, 'gants nike femme'),\n",
       " (45, 26, 'polo lacoste bleu marine femme '),\n",
       " (45, 20, 'basket nike femme (dual fusion X) 38'),\n",
       " (45, 20, 'Chaussures Nike Free 5.0 femme 38.5'),\n",
       " (42, 10, 'Super bonne paye '),\n",
       " (41, 30, 'tee shirt superdry bleu femme '),\n",
       " (41, 11, 'Kawaii le livre 100% Japon '),\n",
       " (40, 11, 'Mirogolo '),\n",
       " (32, 10, 'polo lacoste rose framboise femme 34'),\n",
       " (29, 400, 'Veste Jennifer'),\n",
       " (28, 22, '211 idées pour devenir un garçon génial '),\n",
       " (28, 11, 'Les énigmes de sherlock holmes'),\n",
       " (27, 29, 'Manteau ooxoo garçon marine en laine '),\n",
       " (26, 44, 'Gants répétons fille rose poudré'),\n",
       " (24, 11, 'Les goûters philo'),\n",
       " (24, 7, 'Boule et bill - Sos Planète '),\n",
       " (23, 22, 'Nos étoiles contraires - John Green')]"
      ]
     },
     "execution_count": 11,
     "metadata": {},
     "output_type": "execute_result"
    }
   ],
   "source": [
    "xx.sort(reverse=True)\n",
    "xx[:20]"
   ]
  },
  {
   "cell_type": "code",
   "execution_count": 13,
   "metadata": {},
   "outputs": [],
   "source": [
    "with open('classement.txt','w') as fp:\n",
    "    fp.write( '\\n'.join(['%d %d %s'%x for x in xx]) )"
   ]
  },
  {
   "cell_type": "code",
   "execution_count": 59,
   "metadata": {},
   "outputs": [],
   "source": [
    "r = get_page('https://www.vinted.fr/member/general/followers/20263980')\n",
    "px = re.compile('membres/(\\d+)-(.*?)\"')\n",
    "friends = list( set(px.findall(r.content.decode('utf-8'))) )"
   ]
  },
  {
   "cell_type": "code",
   "execution_count": 60,
   "metadata": {},
   "outputs": [
    {
     "data": {
      "text/plain": [
       "[('24794428', 'mariehvz'),\n",
       " ('15350990', 'evaamw'),\n",
       " ('13862386', 'simojo10'),\n",
       " ('12651286', 'locean21'),\n",
       " ('31290234', 'bibou0087'),\n",
       " ('16147769', 'iannelaure'),\n",
       " ('12271904', 'smarchetti'),\n",
       " ('32135520', 'bertrandclavel'),\n",
       " ('32147659', 'michelinjeanmarc'),\n",
       " ('31678660', 'brisbane63'),\n",
       " ('28779534', 'mthiollier'),\n",
       " ('24794404', 'ceeliaa19'),\n",
       " ('20263980', 'erinmcsh'),\n",
       " ('10559472', 'adeleonillon'),\n",
       " ('15226661', 'karimusnebili'),\n",
       " ('26278824', 'colinegvs'),\n",
       " ('32423957', 'paul11040'),\n",
       " ('32032265', 'manon-rchr38'),\n",
       " ('32359937', 'marie-gabvort')]"
      ]
     },
     "execution_count": 60,
     "metadata": {},
     "output_type": "execute_result"
    }
   ],
   "source": [
    "friends"
   ]
  },
  {
   "cell_type": "code",
   "execution_count": 18,
   "metadata": {},
   "outputs": [],
   "source": [
    "with open('xx.html','wb') as fp:\n",
    "    fp.write( r.content )"
   ]
  },
  {
   "cell_type": "code",
   "execution_count": 63,
   "metadata": {},
   "outputs": [
    {
     "name": "stdout",
     "output_type": "stream",
     "text": [
      "mariehvz\n",
      "evaamw\n",
      "simojo10\n",
      "locean21\n",
      "bibou0087\n",
      "iannelaure\n",
      "smarchetti\n",
      "bertrandclavel\n",
      "michelinjeanmarc\n",
      "brisbane63\n",
      "mthiollier\n",
      "ceeliaa19\n",
      "erinmcsh\n",
      "adeleonillon\n",
      "karimusnebili\n",
      "colinegvs\n",
      "paul11040\n",
      "manon-rchr38\n",
      "marie-gabvort\n"
     ]
    }
   ],
   "source": [
    "import time\n",
    "\n",
    "keys = [ 'login', 'gender', 'city',\n",
    "'item_count', 'given_item_count', \n",
    "'created_at', 'last_loged_on_ts' ]\n",
    "\n",
    "data = []\n",
    "\n",
    "for id_,name  in friends:\n",
    "    print(name)\n",
    "    r = get_page('https://www.vinted.fr/api/v2/users/%s/'%id_)\n",
    "    xx = r.json()['user']\n",
    "    data.append([ xx[k] for k in keys ])\n",
    "    time.sleep(3)\n",
    "    \n",
    "    "
   ]
  },
  {
   "cell_type": "code",
   "execution_count": 74,
   "metadata": {},
   "outputs": [],
   "source": [
    "cols = dict( zip( keys, list(zip(*data)) ) )\n",
    "\n",
    "for t in ['created_at', 'last_loged_on_ts' ]:\n",
    "    cols[t] = [x.split('T')[0] for x in cols [t] ]"
   ]
  },
  {
   "cell_type": "code",
   "execution_count": 69,
   "metadata": {},
   "outputs": [],
   "source": [
    "import pandas as pd"
   ]
  },
  {
   "cell_type": "code",
   "execution_count": 75,
   "metadata": {},
   "outputs": [
    {
     "data": {
      "text/html": [
       "<div>\n",
       "<style scoped>\n",
       "    .dataframe tbody tr th:only-of-type {\n",
       "        vertical-align: middle;\n",
       "    }\n",
       "\n",
       "    .dataframe tbody tr th {\n",
       "        vertical-align: top;\n",
       "    }\n",
       "\n",
       "    .dataframe thead th {\n",
       "        text-align: right;\n",
       "    }\n",
       "</style>\n",
       "<table border=\"1\" class=\"dataframe\">\n",
       "  <thead>\n",
       "    <tr style=\"text-align: right;\">\n",
       "      <th></th>\n",
       "      <th>login</th>\n",
       "      <th>gender</th>\n",
       "      <th>city</th>\n",
       "      <th>item_count</th>\n",
       "      <th>given_item_count</th>\n",
       "      <th>created_at</th>\n",
       "      <th>last_loged_on_ts</th>\n",
       "    </tr>\n",
       "  </thead>\n",
       "  <tbody>\n",
       "    <tr>\n",
       "      <th>0</th>\n",
       "      <td>marie.hvz</td>\n",
       "      <td>F</td>\n",
       "      <td>Grenoble</td>\n",
       "      <td>2</td>\n",
       "      <td>5</td>\n",
       "      <td>2019-05-05</td>\n",
       "      <td>2020-01-07</td>\n",
       "    </tr>\n",
       "    <tr>\n",
       "      <th>1</th>\n",
       "      <td>evaa.mw</td>\n",
       "      <td>F</td>\n",
       "      <td>Échirolles</td>\n",
       "      <td>38</td>\n",
       "      <td>19</td>\n",
       "      <td>2018-01-29</td>\n",
       "      <td>2020-01-07</td>\n",
       "    </tr>\n",
       "    <tr>\n",
       "      <th>2</th>\n",
       "      <td>simojo10</td>\n",
       "      <td>F</td>\n",
       "      <td></td>\n",
       "      <td>20</td>\n",
       "      <td>16</td>\n",
       "      <td>2017-09-18</td>\n",
       "      <td>2020-01-07</td>\n",
       "    </tr>\n",
       "    <tr>\n",
       "      <th>3</th>\n",
       "      <td>locean21</td>\n",
       "      <td>F</td>\n",
       "      <td>Versailles</td>\n",
       "      <td>29</td>\n",
       "      <td>45</td>\n",
       "      <td>2017-04-08</td>\n",
       "      <td>2020-01-06</td>\n",
       "    </tr>\n",
       "    <tr>\n",
       "      <th>4</th>\n",
       "      <td>bibou0087</td>\n",
       "      <td>F</td>\n",
       "      <td>Béziers</td>\n",
       "      <td>418</td>\n",
       "      <td>19</td>\n",
       "      <td>2019-11-13</td>\n",
       "      <td>2020-01-07</td>\n",
       "    </tr>\n",
       "    <tr>\n",
       "      <th>5</th>\n",
       "      <td>i.annelaure</td>\n",
       "      <td>M</td>\n",
       "      <td>Grenoble</td>\n",
       "      <td>0</td>\n",
       "      <td>0</td>\n",
       "      <td>2018-03-20</td>\n",
       "      <td>2019-12-08</td>\n",
       "    </tr>\n",
       "    <tr>\n",
       "      <th>6</th>\n",
       "      <td>smarchetti</td>\n",
       "      <td>F</td>\n",
       "      <td></td>\n",
       "      <td>26</td>\n",
       "      <td>4</td>\n",
       "      <td>2017-02-14</td>\n",
       "      <td>2020-01-07</td>\n",
       "    </tr>\n",
       "    <tr>\n",
       "      <th>7</th>\n",
       "      <td>bertrand_clavel</td>\n",
       "      <td>M</td>\n",
       "      <td>Grenoble</td>\n",
       "      <td>47</td>\n",
       "      <td>31</td>\n",
       "      <td>2019-12-08</td>\n",
       "      <td>2020-01-07</td>\n",
       "    </tr>\n",
       "    <tr>\n",
       "      <th>8</th>\n",
       "      <td>michelin.jeanmarc</td>\n",
       "      <td></td>\n",
       "      <td>Grenoble</td>\n",
       "      <td>0</td>\n",
       "      <td>0</td>\n",
       "      <td>2019-12-08</td>\n",
       "      <td>2019-12-08</td>\n",
       "    </tr>\n",
       "    <tr>\n",
       "      <th>9</th>\n",
       "      <td>brisbane63</td>\n",
       "      <td>F</td>\n",
       "      <td>Marcellaz</td>\n",
       "      <td>17</td>\n",
       "      <td>7</td>\n",
       "      <td>2019-11-23</td>\n",
       "      <td>2020-01-07</td>\n",
       "    </tr>\n",
       "    <tr>\n",
       "      <th>10</th>\n",
       "      <td>mthiollier</td>\n",
       "      <td>F</td>\n",
       "      <td>Grenoble</td>\n",
       "      <td>70</td>\n",
       "      <td>8</td>\n",
       "      <td>2019-09-22</td>\n",
       "      <td>2020-01-07</td>\n",
       "    </tr>\n",
       "    <tr>\n",
       "      <th>11</th>\n",
       "      <td>ceeliaa19</td>\n",
       "      <td>F</td>\n",
       "      <td>Gières</td>\n",
       "      <td>0</td>\n",
       "      <td>0</td>\n",
       "      <td>2019-05-05</td>\n",
       "      <td>2020-01-02</td>\n",
       "    </tr>\n",
       "    <tr>\n",
       "      <th>12</th>\n",
       "      <td>erin.mcsh</td>\n",
       "      <td>F</td>\n",
       "      <td>Saint-Martin-d'Hères</td>\n",
       "      <td>266</td>\n",
       "      <td>109</td>\n",
       "      <td>2018-12-02</td>\n",
       "      <td>2020-01-07</td>\n",
       "    </tr>\n",
       "    <tr>\n",
       "      <th>13</th>\n",
       "      <td>adeleonillon</td>\n",
       "      <td>F</td>\n",
       "      <td>Grenoble</td>\n",
       "      <td>23</td>\n",
       "      <td>21</td>\n",
       "      <td>2016-02-07</td>\n",
       "      <td>2020-01-06</td>\n",
       "    </tr>\n",
       "    <tr>\n",
       "      <th>14</th>\n",
       "      <td>karimus.nebili</td>\n",
       "      <td>F</td>\n",
       "      <td>Grenoble</td>\n",
       "      <td>39</td>\n",
       "      <td>40</td>\n",
       "      <td>2018-01-20</td>\n",
       "      <td>2020-01-07</td>\n",
       "    </tr>\n",
       "    <tr>\n",
       "      <th>15</th>\n",
       "      <td>coline.gvs</td>\n",
       "      <td>F</td>\n",
       "      <td></td>\n",
       "      <td>0</td>\n",
       "      <td>0</td>\n",
       "      <td>2019-06-30</td>\n",
       "      <td>2019-07-27</td>\n",
       "    </tr>\n",
       "    <tr>\n",
       "      <th>16</th>\n",
       "      <td>paul11040</td>\n",
       "      <td>M</td>\n",
       "      <td>Grenoble</td>\n",
       "      <td>46</td>\n",
       "      <td>62</td>\n",
       "      <td>2019-12-19</td>\n",
       "      <td>2020-01-07</td>\n",
       "    </tr>\n",
       "    <tr>\n",
       "      <th>17</th>\n",
       "      <td>manon-rchr38</td>\n",
       "      <td>F</td>\n",
       "      <td>Gières</td>\n",
       "      <td>20</td>\n",
       "      <td>6</td>\n",
       "      <td>2019-12-04</td>\n",
       "      <td>2020-01-05</td>\n",
       "    </tr>\n",
       "    <tr>\n",
       "      <th>18</th>\n",
       "      <td>marie-gab.vort</td>\n",
       "      <td>F</td>\n",
       "      <td>Grenoble</td>\n",
       "      <td>22</td>\n",
       "      <td>8</td>\n",
       "      <td>2019-12-16</td>\n",
       "      <td>2020-01-07</td>\n",
       "    </tr>\n",
       "  </tbody>\n",
       "</table>\n",
       "</div>"
      ],
      "text/plain": [
       "                login gender                  city  item_count  \\\n",
       "0           marie.hvz      F              Grenoble           2   \n",
       "1             evaa.mw      F            Échirolles          38   \n",
       "2            simojo10      F                                20   \n",
       "3            locean21      F            Versailles          29   \n",
       "4           bibou0087      F               Béziers         418   \n",
       "5         i.annelaure      M              Grenoble           0   \n",
       "6          smarchetti      F                                26   \n",
       "7     bertrand_clavel      M              Grenoble          47   \n",
       "8   michelin.jeanmarc                     Grenoble           0   \n",
       "9          brisbane63      F             Marcellaz          17   \n",
       "10         mthiollier      F              Grenoble          70   \n",
       "11          ceeliaa19      F                Gières           0   \n",
       "12          erin.mcsh      F  Saint-Martin-d'Hères         266   \n",
       "13       adeleonillon      F              Grenoble          23   \n",
       "14     karimus.nebili      F              Grenoble          39   \n",
       "15         coline.gvs      F                                 0   \n",
       "16          paul11040      M              Grenoble          46   \n",
       "17       manon-rchr38      F                Gières          20   \n",
       "18     marie-gab.vort      F              Grenoble          22   \n",
       "\n",
       "    given_item_count  created_at last_loged_on_ts  \n",
       "0                  5  2019-05-05       2020-01-07  \n",
       "1                 19  2018-01-29       2020-01-07  \n",
       "2                 16  2017-09-18       2020-01-07  \n",
       "3                 45  2017-04-08       2020-01-06  \n",
       "4                 19  2019-11-13       2020-01-07  \n",
       "5                  0  2018-03-20       2019-12-08  \n",
       "6                  4  2017-02-14       2020-01-07  \n",
       "7                 31  2019-12-08       2020-01-07  \n",
       "8                  0  2019-12-08       2019-12-08  \n",
       "9                  7  2019-11-23       2020-01-07  \n",
       "10                 8  2019-09-22       2020-01-07  \n",
       "11                 0  2019-05-05       2020-01-02  \n",
       "12               109  2018-12-02       2020-01-07  \n",
       "13                21  2016-02-07       2020-01-06  \n",
       "14                40  2018-01-20       2020-01-07  \n",
       "15                 0  2019-06-30       2019-07-27  \n",
       "16                62  2019-12-19       2020-01-07  \n",
       "17                 6  2019-12-04       2020-01-05  \n",
       "18                 8  2019-12-16       2020-01-07  "
      ]
     },
     "execution_count": 75,
     "metadata": {},
     "output_type": "execute_result"
    }
   ],
   "source": [
    "pd.DataFrame(cols)"
   ]
  },
  {
   "cell_type": "code",
   "execution_count": null,
   "metadata": {},
   "outputs": [],
   "source": []
  }
 ],
 "metadata": {
  "kernelspec": {
   "display_name": "Python 3",
   "language": "python",
   "name": "python3"
  },
  "language_info": {
   "codemirror_mode": {
    "name": "ipython",
    "version": 3
   },
   "file_extension": ".py",
   "mimetype": "text/x-python",
   "name": "python",
   "nbconvert_exporter": "python",
   "pygments_lexer": "ipython3",
   "version": "3.6.5"
  }
 },
 "nbformat": 4,
 "nbformat_minor": 2
}
