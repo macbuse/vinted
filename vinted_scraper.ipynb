{
 "cells": [
  {
   "cell_type": "code",
   "execution_count": 2,
   "metadata": {},
   "outputs": [],
   "source": [
    "import re\n",
    "import json\n",
    "import requests\n",
    "#hash this as we'll be using it a lot\n",
    "def get_page(url,params={}):\n",
    "    return session_requests.get(\n",
    "        url,\n",
    "        params=params,\n",
    "        headers = dict(referer=url))\n",
    "\n",
    "session_requests = requests.session()\n",
    "login_url = 'https://www.vinted.fr/member/general/login?ref_url='\n",
    "tt = session_requests.get(login_url).content.decode('utf-8')\n",
    "pp = re.compile('name=\"csrf-token\" content=\"(.*?)\"')\n",
    "mm = pp.search(tt)\n",
    "\n",
    "from vinted_creds import creds\n",
    "payload = creds\n",
    "payload[\"authenticity_token\"] =  mm.group(1)\n",
    "\n",
    "result = session_requests.post( 'https://www.vinted.fr/member/general/login.json',\n",
    "                               json=json.dumps(payload),\n",
    "                               headers = dict(referer=login_url)\n",
    "                              )"
   ]
  },
  {
   "cell_type": "code",
   "execution_count": 3,
   "metadata": {},
   "outputs": [
    {
     "data": {
      "text/plain": [
       "<Response [422]>"
      ]
     },
     "execution_count": 3,
     "metadata": {},
     "output_type": "execute_result"
    }
   ],
   "source": [
    "result"
   ]
  },
  {
   "cell_type": "raw",
   "metadata": {},
   "source": [
    "results gives a code  422 but it gives you access to the API all the same"
   ]
  },
  {
   "cell_type": "code",
   "execution_count": 5,
   "metadata": {},
   "outputs": [
    {
     "name": "stdout",
     "output_type": "stream",
     "text": [
      "1\n",
      "2\n",
      "3\n",
      "4\n",
      "5\n",
      "6\n"
     ]
    }
   ],
   "source": [
    "url = 'https://www.vinted.fr/api/v2/users/20263980/items'\n",
    "\n",
    "stuff = []\n",
    "for k in range(1,7):\n",
    "    print(k)\n",
    "    r = get_page(url, \n",
    "                params={'page': k, 'per_page': 48})\n",
    "    stuff.append( r.json())"
   ]
  },
  {
   "cell_type": "markdown",
   "metadata": {},
   "source": [
    "you should really get the max_page from in the firts json batch\n",
    "['pagination']"
   ]
  },
  {
   "cell_type": "code",
   "execution_count": 6,
   "metadata": {},
   "outputs": [],
   "source": [
    "stuff = [x['items'] for x in stuff]\n",
    "import itertools\n",
    "df = list(itertools.chain.from_iterable(stuff))"
   ]
  },
  {
   "cell_type": "code",
   "execution_count": 8,
   "metadata": {},
   "outputs": [
    {
     "data": {
      "text/plain": [
       "961.5999999999999"
      ]
     },
     "execution_count": 8,
     "metadata": {},
     "output_type": "execute_result"
    }
   ],
   "source": [
    "its = [ (x['view_count'], x['title'] + x['description']) for x in df ]\n",
    "its = [ (x['view_count'], x['title'] ) for x in df ]\n",
    "sum( [ float(x['price_numeric']) for x in df ] )"
   ]
  },
  {
   "cell_type": "code",
   "execution_count": 9,
   "metadata": {},
   "outputs": [],
   "source": [
    "from datetime import datetime\n",
    "def str2date(ss):\n",
    "    date = ss.split('+')[0]\n",
    "    return  datetime.strptime(date, '%Y-%m-%dT%H:%M:%S')\n",
    "\n",
    "def date2offset(ss):\n",
    "    start = str2date('2018-12-02T15:53:11+01:00')\n",
    "    \n",
    "    return  (datetime.now() - str2date(ss) ).days\n",
    "\n",
    "xx = [ (x['view_count'], \n",
    "        date2offset(x['created_at_ts']),\n",
    "        x['title'] \n",
    "        ) for x in df ]"
   ]
  },
  {
   "cell_type": "code",
   "execution_count": 11,
   "metadata": {},
   "outputs": [
    {
     "data": {
      "text/plain": [
       "[(92, 1, 'pull ralph lauren femme bleu marine XS '),\n",
       " (58, 26, 'veste petit bateau marine fille '),\n",
       " (56, 44, 'manteau bleu marine petit bateau fille laine (78%)'),\n",
       " (48, 51, 'gants nike femme'),\n",
       " (45, 26, 'polo lacoste bleu marine femme '),\n",
       " (45, 20, 'basket nike femme (dual fusion X) 38'),\n",
       " (45, 20, 'Chaussures Nike Free 5.0 femme 38.5'),\n",
       " (42, 10, 'Super bonne paye '),\n",
       " (41, 30, 'tee shirt superdry bleu femme '),\n",
       " (41, 11, 'Kawaii le livre 100% Japon '),\n",
       " (40, 11, 'Mirogolo '),\n",
       " (32, 10, 'polo lacoste rose framboise femme 34'),\n",
       " (29, 400, 'Veste Jennifer'),\n",
       " (28, 22, '211 idées pour devenir un garçon génial '),\n",
       " (28, 11, 'Les énigmes de sherlock holmes'),\n",
       " (27, 29, 'Manteau ooxoo garçon marine en laine '),\n",
       " (26, 44, 'Gants répétons fille rose poudré'),\n",
       " (24, 11, 'Les goûters philo'),\n",
       " (24, 7, 'Boule et bill - Sos Planète '),\n",
       " (23, 22, 'Nos étoiles contraires - John Green')]"
      ]
     },
     "execution_count": 11,
     "metadata": {},
     "output_type": "execute_result"
    }
   ],
   "source": [
    "xx.sort(reverse=True)\n",
    "xx[:20]"
   ]
  },
  {
   "cell_type": "code",
   "execution_count": 13,
   "metadata": {},
   "outputs": [],
   "source": [
    "with open('classement.txt','w') as fp:\n",
    "    fp.write( '\\n'.join(['%d %d %s'%x for x in xx]) )"
   ]
  },
  {
   "cell_type": "code",
   "execution_count": null,
   "metadata": {},
   "outputs": [],
   "source": []
  }
 ],
 "metadata": {
  "kernelspec": {
   "display_name": "Python 3",
   "language": "python",
   "name": "python3"
  },
  "language_info": {
   "codemirror_mode": {
    "name": "ipython",
    "version": 3
   },
   "file_extension": ".py",
   "mimetype": "text/x-python",
   "name": "python",
   "nbconvert_exporter": "python",
   "pygments_lexer": "ipython3",
   "version": "3.6.5"
  }
 },
 "nbformat": 4,
 "nbformat_minor": 2
}
